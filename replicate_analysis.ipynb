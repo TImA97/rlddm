{
 "cells": [
  {
   "cell_type": "markdown",
   "metadata": {
    "collapsed": true,
    "pycharm": {
     "name": "#%% md\n"
    }
   },
   "source": [
    "# The present analysis is meant to replicate Fonatensi et al. (2019)"
   ]
  },
  {
   "cell_type": "code",
   "execution_count": 2,
   "outputs": [],
   "source": [
    "## imports\n",
    "import rlssm\n",
    "import pandas as pd"
   ],
   "metadata": {
    "collapsed": false,
    "pycharm": {
     "name": "#%%\n"
    }
   }
  },
  {
   "cell_type": "code",
   "execution_count": 4,
   "outputs": [
    {
     "name": "stdout",
     "output_type": "stream",
     "text": [
      "   Unnamed: 0  participant  block_label  trial_block  f_cor  f_inc  \\\n",
      "0           0            1          0.0          1.0   43.0   39.0   \n",
      "1           1            1          0.0          2.0   60.0   50.0   \n",
      "2           2            1          0.0          3.0   44.0   36.0   \n",
      "3           3            1          0.0          4.0   55.0   55.0   \n",
      "4           4            1          0.0          5.0   52.0   49.0   \n",
      "\n",
      "   cor_option  inc_option  times_seen        rt  accuracy  \n",
      "0           2           1         1.0  1.244082       0.0  \n",
      "1           4           3         1.0  1.101821       1.0  \n",
      "2           4           2         2.0  1.029923       0.0  \n",
      "3           4           3         2.5  1.368007       0.0  \n",
      "4           4           3         3.5  1.039329       1.0  \n"
     ]
    }
   ],
   "source": [
    "## read data and print first 5 lines\n",
    "df = pd.read_csv('data/data_fontanesi.csv')\n",
    "print(df.head())"
   ],
   "metadata": {
    "collapsed": false,
    "pycharm": {
     "name": "#%%\n"
    }
   }
  }
 ],
 "metadata": {
  "kernelspec": {
   "display_name": "Python 3",
   "language": "python",
   "name": "python3"
  },
  "language_info": {
   "codemirror_mode": {
    "name": "ipython",
    "version": 2
   },
   "file_extension": ".py",
   "mimetype": "text/x-python",
   "name": "python",
   "nbconvert_exporter": "python",
   "pygments_lexer": "ipython2",
   "version": "2.7.6"
  }
 },
 "nbformat": 4,
 "nbformat_minor": 0
}